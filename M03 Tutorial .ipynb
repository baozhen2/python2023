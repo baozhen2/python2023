{
 "cells": [
  {
   "cell_type": "code",
   "execution_count": 1,
   "id": "81b5e388-d3a5-41b6-9b0c-6acfff7802e0",
   "metadata": {},
   "outputs": [
    {
     "name": "stdout",
     "output_type": "stream",
     "text": [
      "mammal\n",
      "I'm a mammal\n",
      "I'm a dog\n"
     ]
    }
   ],
   "source": [
    "# Python3 program to\n",
    "# demonstrate instantiating\n",
    "# a class\n",
    "class Dog:\n",
    "\n",
    "    # A simple class\n",
    "    # attribute\n",
    "    attr1 = \"mammal\"\n",
    "    attr2 = \"dog\"\n",
    "\n",
    "    # A sample method\n",
    "    def fun(self):\n",
    "        print(\"I'm a\", self.attr1)\n",
    "        print(\"I'm a\", self.attr2)\n",
    "\n",
    "\n",
    "# Driver code\n",
    "# Object instantiation\n",
    "Rodger = Dog()\n",
    "\n",
    "# Accessing class attributes\n",
    "# and method through objects\n",
    "print(Rodger.attr1)\n",
    "Rodger.fun()"
   ]
  },
  {
   "cell_type": "code",
   "execution_count": 2,
   "id": "ef1eeff2-371f-4e80-86db-5f40ebc7738a",
   "metadata": {},
   "outputs": [
    {
     "name": "stdout",
     "output_type": "stream",
     "text": [
      "Hello my name is John and I work in GeeksForGeeks.\n"
     ]
    }
   ],
   "source": [
    "class GFG:\n",
    "    def __init__(somename, name, company):\n",
    "        somename.name = name\n",
    "        somename.company = company\n",
    "\n",
    "    def show(somename):\n",
    "        print(\"Hello my name is \" + somename.name +\n",
    "              \" and I work in \"+somename.company+\".\")\n",
    "\n",
    "\n",
    "obj = GFG(\"John\", \"GeeksForGeeks\")\n",
    "obj.show()"
   ]
  },
  {
   "cell_type": "code",
   "execution_count": 3,
   "id": "5d01d0ef-dcc6-46ca-b742-e66e0b51a9b4",
   "metadata": {},
   "outputs": [
    {
     "name": "stdout",
     "output_type": "stream",
     "text": [
      "Hello, my name is Nikhil\n"
     ]
    }
   ],
   "source": [
    "# Sample class with init method\n",
    "class Person:\n",
    "\n",
    "    # init method or constructor\n",
    "    def __init__(self, name):\n",
    "        self.name = name\n",
    "\n",
    "    # Sample Method\n",
    "    def say_hi(self):\n",
    "        print('Hello, my name is', self.name)\n",
    "\n",
    "\n",
    "p = Person('Nikhil')\n",
    "p.say_hi()"
   ]
  },
  {
   "cell_type": "code",
   "execution_count": 5,
   "id": "ab862113-a1e0-4801-9241-4777ad60be5f",
   "metadata": {},
   "outputs": [
    {
     "name": "stdout",
     "output_type": "stream",
     "text": [
      "My name is John and I work in GeeksForGeeks.\n"
     ]
    }
   ],
   "source": [
    "class GFG:\n",
    "    def __init__(self, name, company):\n",
    "        self.name = name\n",
    "        self.company = company\n",
    "\n",
    "    def __str__(self):\n",
    "        return f\"My name is {self.name} and I work in {self.company}.\"\n",
    "\n",
    "\n",
    "my_obj = GFG(\"John\", \"GeeksForGeeks\")\n",
    "print(my_obj)"
   ]
  },
  {
   "cell_type": "code",
   "execution_count": null,
   "id": "76db90a8-1060-45f4-a5d8-cbc9d45755f7",
   "metadata": {},
   "outputs": [],
   "source": []
  }
 ],
 "metadata": {
  "kernelspec": {
   "display_name": "Python 3 (ipykernel)",
   "language": "python",
   "name": "python3"
  },
  "language_info": {
   "codemirror_mode": {
    "name": "ipython",
    "version": 3
   },
   "file_extension": ".py",
   "mimetype": "text/x-python",
   "name": "python",
   "nbconvert_exporter": "python",
   "pygments_lexer": "ipython3",
   "version": "3.11.7"
  }
 },
 "nbformat": 4,
 "nbformat_minor": 5
}

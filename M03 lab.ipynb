{
 "cells": [
  {
   "cell_type": "code",
   "execution_count": 1,
   "metadata": {},
   "outputs": [
    {
     "name": "stdout",
     "output_type": "stream",
     "text": [
      "\n",
      "Vehicle Information:\n",
      "Vehicle type: car\n",
      "Year: 2022\n",
      "Make: Toyota\n",
      "Model: Corolla\n",
      "Number of doors: 4\n",
      "Type of roof: sunroof\n"
     ]
    }
   ],
   "source": [
    "class Vehicle:\n",
    "    def __init__(zhang):\n",
    "        zhang.vehicle_type = \"car\"\n",
    "        zhang.year = input(\"Enter the year of the car: \")\n",
    "        zhang.make = input(\"Enter the make of the car: \")\n",
    "        zhang.model = input(\"Enter the model of the car: \")\n",
    "        zhang.doors = input(\"Enter the number of doors (2 or 4): \")\n",
    "        zhang.roof = input(\"Enter the type of roof (solid or sun roof): \")\n",
    "\n",
    "    def display_info(zhang):\n",
    "        print(\"Vehicle type:\", zhang.vehicle_type)\n",
    "        print(\"Year:\", zhang.year)\n",
    "        print(\"Make:\", zhang.make)\n",
    "        print(\"Model:\", zhang.model)\n",
    "        print(\"Number of doors:\", zhang.doors)\n",
    "        print(\"Type of roof:\", zhang.roof)\n",
    "\n",
    "\n",
    "def main():\n",
    "    car = Vehicle()\n",
    "    print(\"\\nVehicle Information:\")\n",
    "    car.display_info()\n",
    "\n",
    "\n",
    "if __name__ == \"__main__\":\n",
    "    main()"
   ]
  }
 ],
 "metadata": {
  "kernelspec": {
   "display_name": "Python 3",
   "language": "python",
   "name": "python3"
  },
  "language_info": {
   "codemirror_mode": {
    "name": "ipython",
    "version": 3
   },
   "file_extension": ".py",
   "mimetype": "text/x-python",
   "name": "python",
   "nbconvert_exporter": "python",
   "pygments_lexer": "ipython3",
   "version": "3.12.2"
  }
 },
 "nbformat": 4,
 "nbformat_minor": 2
}

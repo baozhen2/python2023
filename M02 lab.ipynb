{
 "cells": [
  {
   "cell_type": "code",
   "execution_count": 1,
   "metadata": {},
   "outputs": [
    {
     "name": "stdout",
     "output_type": "stream",
     "text": [
      "zhang\n",
      "skylar\n",
      "3.9\n",
      "Wow! Dean's list\n",
      "jam\n",
      "james\n",
      "3.1\n",
      "Nothing, probably next time\n",
      "john \n",
      "adams\n",
      "3.31\n",
      "Yeah! Honor Roll\n",
      "Program ended.\n"
     ]
    }
   ],
   "source": [
    "# Author : baozhen zhang\n",
    "# App's name : Dean's list and Honor Roll evaluation tools\n",
    "# Propose : will accept student names and GPAs and test if the student qualifies for either the Dean's List or the Honor Roll.\n",
    "\n",
    "while True:\n",
    "    last_name = input(\"please enter student's last name [type ZZZ to quit]: \")\n",
    "    if last_name == \"ZZZ\":\n",
    "        break\n",
    "    print(last_name)\n",
    "    \n",
    "    first_name = input(\"please enter student's first name: \")\n",
    "    print(first_name)\n",
    "    \n",
    "    GPA = float(input(\"please enter student's GPA: \"))\n",
    "    print(GPA)\n",
    "\n",
    "    if GPA > 3.5:\n",
    "        print(\"Wow! Dean's list\")\n",
    "    elif 3.5 >= GPA >= 3.25:\n",
    "        print(\"Yeah! Honor Roll\")\n",
    "    else:\n",
    "        print(\"Nothing, probably next time\")\n",
    "\n",
    "print(\"Program ended.\")"
   ]
  }
 ],
 "metadata": {
  "kernelspec": {
   "display_name": "Python 3",
   "language": "python",
   "name": "python3"
  },
  "language_info": {
   "codemirror_mode": {
    "name": "ipython",
    "version": 3
   },
   "file_extension": ".py",
   "mimetype": "text/x-python",
   "name": "python",
   "nbconvert_exporter": "python",
   "pygments_lexer": "ipython3",
   "version": "3.12.2"
  }
 },
 "nbformat": 4,
 "nbformat_minor": 2
}

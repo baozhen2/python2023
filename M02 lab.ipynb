{
 "cells": [
  {
   "cell_type": "code",
   "execution_count": 3,
   "metadata": {},
   "outputs": [
    {
     "name": "stdout",
     "output_type": "stream",
     "text": [
      "Zhang\n",
      "skylar\n",
      "3.1\n",
      "nothing, probobly next time\n",
      "Program ended.\n"
     ]
    }
   ],
   "source": [
    "# Author : baozhen zhang\n",
    "# App's name : Dean's list and Honor Roll evaluation tools\n",
    "# Propose : will accept student names and GPAs and test if the student qualifies for either the Dean's List or the Honor Roll.\n",
    "\n",
    "while True:\n",
    "    last_name = input(\"please entre student's last name[type ZZZ to quit]:\")\n",
    "    if last_name == \"ZZZ\":\n",
    "        break\n",
    "    print(last_name)\n",
    "    first_name = input(\"please entre student's first name:\")\n",
    "    print(first_name)\n",
    "    GPA = float(input(\"please entre student's GPA:\"))\n",
    "    print(GPA)\n",
    "if GPA > 3.5:\n",
    "    print(\"wow! dean's list\")\n",
    "elif 3.5 > GPA > 3.25:\n",
    "    print(\"yeah!Honor Roll\")\n",
    "else:\n",
    "    print(\"nothing, probably next time\")\n",
    "print(\"Program ended.\")"
   ]
  }
 ],
 "metadata": {
  "kernelspec": {
   "display_name": "Python 3",
   "language": "python",
   "name": "python3"
  },
  "language_info": {
   "codemirror_mode": {
    "name": "ipython",
    "version": 3
   },
   "file_extension": ".py",
   "mimetype": "text/x-python",
   "name": "python",
   "nbconvert_exporter": "python",
   "pygments_lexer": "ipython3",
   "version": "3.12.2"
  }
 },
 "nbformat": 4,
 "nbformat_minor": 2
}
